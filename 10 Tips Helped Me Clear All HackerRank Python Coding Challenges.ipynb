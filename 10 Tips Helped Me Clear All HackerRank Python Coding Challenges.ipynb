{
 "cells": [
  {
   "cell_type": "markdown",
   "metadata": {},
   "source": [
    "# 10 Tips Helped Me Clear All HackerRank Python Coding Challenges"
   ]
  },
  {
   "cell_type": "markdown",
   "metadata": {},
   "source": [
    "### Tip #1: Start from Easy, and Gently Work Your Way Up\n",
    "Make good use of the filters on the right side. \n",
    "- **Easy** - basic syntaxes mastery and best practises.\n",
    "- **Medium** - putting multiple pieces together\n",
    "- **Hard** - putting everything thing together, adding time/spae limit. Some hard problems you can't brute force.  "
   ]
  },
  {
   "cell_type": "markdown",
   "metadata": {},
   "source": [
    "### Tip #2: Record, Reapply, Repeat\n",
    "- **Record** your success and failures. Anylize the problem. What it is trying to test you? What techniques are used? Is your solution the optimum? What is the most upvoted solution in the `Discussion` section? Why?\n",
    "- **Reapply** what you've just recorded and learned to new challenges to make it your second nature. That's the benefit of steam-roller through all challenges in a relatively short period of time.\n",
    "- **Repeat** step 1 and 2. You will find yourself learning new things while practicing them. Spotting more patterns and adding the optimum solutions to them. In short, you are growing fast."
   ]
  },
  {
   "cell_type": "markdown",
   "metadata": {},
   "source": [
    "### Tip #3: Read the Discussions, but Don't Get Too Addicted with One-Liners\n",
    "The discussion section probably is the most valuable part of Hackerrank. I learned so much from it. But it has a tendency to upvote those 'sexy' one-liners, don't get obbsesed! Readability still trumps one-liners everyday in real world.\n"
   ]
  },
  {
   "cell_type": "markdown",
   "metadata": {},
   "source": [
    "### Tip #4: When Stuck, Peak!\n",
    "Also 15-minutes rule. Some challenges are not well designed, so don't waste time!\n",
    "Not all challenges are created equal, some are really crappy ones so don't sweat them. Saving your time on more important challenges are better use of your time. "
   ]
  },
  {
   "cell_type": "markdown",
   "metadata": {},
   "source": [
    "### Tip #5: You Don't Have to Use the Provide Code\n",
    "Some challenges just gives you a lot of pre-written boilerplate codes and only leave one function for you to fill. Well, you don't have to follow this crap if you have better idea. Example, `Time Delta` challenge."
   ]
  },
  {
   "cell_type": "markdown",
   "metadata": {},
   "source": [
    "### Tip #6: Use Your Hackos, Don't Skimp\n",
    "Use Hackos to unlock the test cases, so you debug your code faster. There are not much uses for Hackos elsewhere anyway, so totally use it to accelerate your growing speed."
   ]
  },
  {
   "cell_type": "markdown",
   "metadata": {},
   "source": [
    "### Tip #7: Never Remember Challenges\n",
    "Get to know the pattern in question, get familiar tricks for the patterns. Expolate, not intropolcate. Don't overfitt the challenges. "
   ]
  },
  {
   "cell_type": "markdown",
   "metadata": {},
   "source": [
    "### Tip #8: When You Fall, That's When You Grow\n",
    "When you are failing, that's when your chance of real growth showing themseves, grab it, making it the stepping stone of your future success. All success people walk this path. Fail 99 times quick and efficiently, then get to the final big success you deserve. "
   ]
  },
  {
   "cell_type": "markdown",
   "metadata": {},
   "source": [
    "### Tip #9: Build Your Snippets Library\n",
    "There is No Hard Questions. Only Your Ability to Map Question sub-tasks with solvable language/data structure/algorithm tricks. Go game 定式 analogy. Gradually accumulate a snippets library with typical code blocks that solve problems belong to certain pattern. "
   ]
  },
  {
   "cell_type": "markdown",
   "metadata": {},
   "source": [
    "### Tip #10: Enalbe Vim or Emacs mode if you know what you are doing\n",
    "This is for you `vim` or `emacs` ensutiasts. If you happen to be one, doing so will definitely improve your coding experience, if not your coding efficiency. "
   ]
  },
  {
   "cell_type": "markdown",
   "metadata": {},
   "source": [
    "### Bonus: Take the test if you cleared the challenges. It will be a breeze!"
   ]
  },
  {
   "cell_type": "code",
   "execution_count": null,
   "metadata": {},
   "outputs": [],
   "source": []
  }
 ],
 "metadata": {
  "kernelspec": {
   "display_name": "Python 3 (ipykernel)",
   "language": "python",
   "name": "python3"
  },
  "language_info": {
   "codemirror_mode": {
    "name": "ipython",
    "version": 3
   },
   "file_extension": ".py",
   "mimetype": "text/x-python",
   "name": "python",
   "nbconvert_exporter": "python",
   "pygments_lexer": "ipython3",
   "version": "3.7.4"
  }
 },
 "nbformat": 4,
 "nbformat_minor": 4
}
