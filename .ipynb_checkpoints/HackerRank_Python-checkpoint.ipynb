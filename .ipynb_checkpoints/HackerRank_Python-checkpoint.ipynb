{
 "cells": [
  {
   "cell_type": "markdown",
   "metadata": {},
   "source": [
    "# HackerRank Coding Challenge Notes - Python"
   ]
  },
  {
   "cell_type": "markdown",
   "metadata": {},
   "source": [
    "Doing coding challenges is probably the best way to learn the practical side of programming languages quickly. Maybe even better than doing the actual project in the sense that the project will teach you more about how to do software engineering, less about language-specific skills. At the same time, coding challenges will deliberately target the specific part of the programming language and train you on that. \n",
    "This is especially the case when you also read other people's solutions and comments. You'll find a different way of thinking, different language tricks leveraged to solve the same problem, and you will master those quickly. I think everyone who wants to use a specific programming language as their primary development tool should at least clear all coding challenges on Hackerrank/HackerEarch once. \n",
    "I used to struggle reading other people's code in Python, but after I cleared challenges on HackerRank in Python, I now don't have that issue anymore. \n",
    "Therefore, I'll record what I learn below. I hope it helps someone:"
   ]
  },
  {
   "cell_type": "markdown",
   "metadata": {},
   "source": [
    "### Utility Snippets for Getting the Input"
   ]
  },
  {
   "cell_type": "code",
   "execution_count": null,
   "metadata": {},
   "outputs": [],
   "source": [
    "# get N, M as size of array or something similar\n",
    "n, m = map(int, input().strip().split())\n",
    "N,n = int(raw_input()),raw_input().split()"
   ]
  },
  {
   "cell_type": "code",
   "execution_count": null,
   "metadata": {},
   "outputs": [],
   "source": [
    "# read in a array with N rows as int\n",
    "a = [np.array(input().strip().split(), int) for _ in range(n) ]"
   ]
  },
  {
   "cell_type": "code",
   "execution_count": null,
   "metadata": {},
   "outputs": [],
   "source": [
    "# set input boilerplate\n",
    "N_e = int(input())\n",
    "e = set(map(int, input().split()))\n",
    "N_f = int(input())\n",
    "f = set(map(int, input().split()))"
   ]
  },
  {
   "cell_type": "markdown",
   "metadata": {},
   "source": [
    "### Designer Doormat"
   ]
  },
  {
   "cell_type": "code",
   "execution_count": null,
   "metadata": {},
   "outputs": [],
   "source": [
    "# reversed range  -- Designer Doormat\n",
    "reversed(range(10))"
   ]
  },
  {
   "cell_type": "code",
   "execution_count": null,
   "metadata": {},
   "outputs": [],
   "source": [
    "#nested list comprehension, good explanation here:https://spapas.github.io/2016/04/27/python-nested-list-comprehensions/\n",
    "[[i,j,k] for i in range(x) for j in range(y) for k in range(z)]"
   ]
  },
  {
   "cell_type": "markdown",
   "metadata": {},
   "source": [
    "### Set Mutations"
   ]
  },
  {
   "cell_type": "markdown",
   "metadata": {},
   "source": [
    "Use `eval` or `getattr` to generalize function names, this is the functiona programming approach, quite elegant. One thing to note is `eval` is less stable than `getattr`, also slower. So `getattr` is preferred when possible. "
   ]
  },
  {
   "cell_type": "markdown",
   "metadata": {},
   "source": [
    "We can see two snippets below that uses `eval` and `getattr` respectively in the **Set Mutations** challenge"
   ]
  },
  {
   "cell_type": "code",
   "execution_count": null,
   "metadata": {},
   "outputs": [],
   "source": [
    "# Set Mutations - use 'eval'\n",
    "_,A=input(),set(map(int,input().split()))\n",
    "for i in range(int(input())):\n",
    "    op,_=input().split()\n",
    "    B=set(map(int,input().split()))\n",
    "    eval(\"A.\"+op+\"(B)\")   # use 'eval', less safe, slower than 'getattr'\n",
    "print(sum(A))    \n",
    "\n"
   ]
  },
  {
   "cell_type": "code",
   "execution_count": null,
   "metadata": {},
   "outputs": [],
   "source": [
    "# Set Mutations - use 'getattr'\n",
    "if __name__ == '__main__':\n",
    "    (_, A) = (int(input()),set(map(int, input().split())))\n",
    "    B = int(input())\n",
    "    for _ in range(B):\n",
    "        (command, newSet) = (input().split()[0],set(map(int, input().split())))\n",
    "        getattr(A, command)(newSet)   # use 'getattr'\n",
    "print (sum(A))"
   ]
  },
  {
   "cell_type": "markdown",
   "metadata": {},
   "source": [
    "### Use all(), and any() for boolean list aggregation"
   ]
  },
  {
   "cell_type": "code",
   "execution_count": null,
   "metadata": {},
   "outputs": [],
   "source": [
    "# use all() and any() to do list condition cases"
   ]
  },
  {
   "cell_type": "markdown",
   "metadata": {},
   "source": [
    "### sort() and sorted()"
   ]
  },
  {
   "cell_type": "markdown",
   "metadata": {},
   "source": [
    "use sort() and sorted() properly, https://realpython.com/python-sort/\n",
    "Also for the Athlete Sort challenge, sorted() with keys is a must:"
   ]
  },
  {
   "cell_type": "code",
   "execution_count": null,
   "metadata": {},
   "outputs": [],
   "source": [
    "N, M = map(int, input().split())\n",
    "rows = [input() for _ in range(N)]\n",
    "K = int(input())\n",
    "\n",
    "for row in sorted(rows, key=lambda row: int(row.split()[K])):\n",
    "    print(row)"
   ]
  },
  {
   "cell_type": "markdown",
   "metadata": {},
   "source": [
    "Here the key is a lambda function that pick out the `k` column as the value to be sorted. "
   ]
  },
  {
   "cell_type": "markdown",
   "metadata": {},
   "source": [
    "###  \\*arg and **kwargs"
   ]
  },
  {
   "cell_type": "markdown",
   "metadata": {},
   "source": [
    "It can ben used on many functions, like `print`. Establish awareness of this will increase the efficiency of your code. "
   ]
  },
  {
   "cell_type": "code",
   "execution_count": null,
   "metadata": {},
   "outputs": [],
   "source": [
    "# use *value to expand an iterable to its items, often used in function auguments"
   ]
  },
  {
   "cell_type": "markdown",
   "metadata": {},
   "source": [
    "### Check Counter Dictionary Key Existance by dict[key]"
   ]
  },
  {
   "cell_type": "code",
   "execution_count": null,
   "metadata": {},
   "outputs": [],
   "source": [
    "# collections.Counter()\n",
    "#  In Python, dict key can be checked by simply use dict[key], it will return False/0 if the key is not there. \n",
    "numShoes = int(raw_input())\n",
    "shoes = collections.Counter(map(int, raw_input().split()))\n",
    "numCust = int(raw_input())\n",
    "\n",
    "income = 0\n",
    "\n",
    "for i in range(numCust):\n",
    "    size, price = map(int, raw_input().split())\n",
    "    if shoes[size]:     # this is the best part\n",
    "        income += price\n",
    "        shoes[size] -= 1"
   ]
  },
  {
   "cell_type": "code",
   "execution_count": null,
   "metadata": {},
   "outputs": [],
   "source": []
  }
 ],
 "metadata": {
  "kernelspec": {
   "display_name": "Python 3 (ipykernel)",
   "language": "python",
   "name": "python3"
  },
  "language_info": {
   "codemirror_mode": {
    "name": "ipython",
    "version": 3
   },
   "file_extension": ".py",
   "mimetype": "text/x-python",
   "name": "python",
   "nbconvert_exporter": "python",
   "pygments_lexer": "ipython3",
   "version": "3.7.4"
  }
 },
 "nbformat": 4,
 "nbformat_minor": 2
}
