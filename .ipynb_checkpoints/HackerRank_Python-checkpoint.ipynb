{
 "cells": [
  {
   "cell_type": "markdown",
   "metadata": {},
   "source": [
    "# HackerRank Coding Challenge Notes - Python"
   ]
  },
  {
   "cell_type": "markdown",
   "metadata": {},
   "source": [
    "Doing coding challenges is probably the best way to learn the practical side of programming languages quickly. Maybe even better than doing the actual project in the sense that the project will teach you more about how to do software engineering, less about language-specific skills. At the same time, coding challenges will deliberately target the specific part of the programming language and train you on that. \n",
    "This is especially the case when you also read other people's solutions and comments. You'll find a different way of thinking, different language tricks leveraged to solve the same problem, and you will master those quickly. I think everyone who wants to use a specific programming language as their primary development tool should at least clear all coding challenges on Hackerrank/HackerEarch once. \n",
    "I used to struggle reading other people's code in Python, but after I cleared challenges on HackerRank in Python, I now don't have that issue anymore. \n",
    "Therefore, I'll record what I learn below. I hope it helps someone:"
   ]
  },
  {
   "cell_type": "markdown",
   "metadata": {},
   "source": [
    "### Utility Snippets for Getting the Input"
   ]
  },
  {
   "cell_type": "code",
   "execution_count": null,
   "metadata": {},
   "outputs": [],
   "source": [
    "# get N, M as size of array or something similar\n",
    "n, m = map(int, input().strip().split())\n",
    "N,n = int(raw_input()),raw_input().split()"
   ]
  },
  {
   "cell_type": "code",
   "execution_count": null,
   "metadata": {},
   "outputs": [],
   "source": [
    "# read in a array with N rows as int\n",
    "a = [np.array(input().strip().split(), int) for _ in range(n) ]"
   ]
  },
  {
   "cell_type": "code",
   "execution_count": null,
   "metadata": {},
   "outputs": [],
   "source": [
    "# set input boilerplate\n",
    "N_e = int(input())\n",
    "e = set(map(int, input().split()))\n",
    "N_f = int(input())\n",
    "f = set(map(int, input().split()))"
   ]
  },
  {
   "cell_type": "markdown",
   "metadata": {},
   "source": [
    "### Designer Doormat"
   ]
  },
  {
   "cell_type": "code",
   "execution_count": null,
   "metadata": {},
   "outputs": [],
   "source": [
    "# reversed range  -- Designer Doormat\n",
    "reversed(range(10))"
   ]
  },
  {
   "cell_type": "code",
   "execution_count": null,
   "metadata": {},
   "outputs": [],
   "source": [
    "#nested list comprehension, good explanation here:https://spapas.github.io/2016/04/27/python-nested-list-comprehensions/\n",
    "[[i,j,k] for i in range(x) for j in range(y) for k in range(z)]"
   ]
  },
  {
   "cell_type": "markdown",
   "metadata": {},
   "source": [
    "### Set Mutations"
   ]
  },
  {
   "cell_type": "markdown",
   "metadata": {},
   "source": [
    "Use `eval` or `getattr` to generalize function names, this is the functiona programming approach, quite elegant. One thing to note is `eval` is less stable than `getattr`, also slower. So `getattr` is preferred when possible. "
   ]
  },
  {
   "cell_type": "markdown",
   "metadata": {},
   "source": [
    "We can see two snippets below that uses `eval` and `getattr` respectively in the **Set Mutations** challenge"
   ]
  },
  {
   "cell_type": "code",
   "execution_count": null,
   "metadata": {},
   "outputs": [],
   "source": [
    "# Set Mutations - use 'eval'\n",
    "_,A=input(),set(map(int,input().split()))\n",
    "for i in range(int(input())):\n",
    "    op,_=input().split()\n",
    "    B=set(map(int,input().split()))\n",
    "    eval(\"A.\"+op+\"(B)\")   # use 'eval', less safe, slower than 'getattr'\n",
    "print(sum(A))    \n",
    "\n"
   ]
  },
  {
   "cell_type": "code",
   "execution_count": null,
   "metadata": {},
   "outputs": [],
   "source": [
    "# Set Mutations - use 'getattr'\n",
    "if __name__ == '__main__':\n",
    "    (_, A) = (int(input()),set(map(int, input().split())))\n",
    "    B = int(input())\n",
    "    for _ in range(B):\n",
    "        (command, newSet) = (input().split()[0],set(map(int, input().split())))\n",
    "        getattr(A, command)(newSet)   # use 'getattr'\n",
    "print (sum(A))"
   ]
  },
  {
   "cell_type": "markdown",
   "metadata": {},
   "source": [
    "### Use all(), and any() for boolean list aggregation"
   ]
  },
  {
   "cell_type": "code",
   "execution_count": null,
   "metadata": {},
   "outputs": [],
   "source": [
    "# use all() and any() to do list condition cases"
   ]
  },
  {
   "cell_type": "markdown",
   "metadata": {},
   "source": [
    "### sort() and sorted()"
   ]
  },
  {
   "cell_type": "markdown",
   "metadata": {},
   "source": [
    "use sort() and sorted() properly, https://realpython.com/python-sort/\n",
    "Also for the Athlete Sort challenge, sorted() with keys is a must:"
   ]
  },
  {
   "cell_type": "code",
   "execution_count": null,
   "metadata": {},
   "outputs": [],
   "source": [
    "N, M = map(int, input().split())\n",
    "rows = [input() for _ in range(N)]\n",
    "K = int(input())\n",
    "\n",
    "for row in sorted(rows, key=lambda row: int(row.split()[K])):\n",
    "    print(row)"
   ]
  },
  {
   "cell_type": "markdown",
   "metadata": {},
   "source": [
    "Here the key is a lambda function that pick out the `k` column as the value to be sorted. "
   ]
  },
  {
   "cell_type": "markdown",
   "metadata": {},
   "source": [
    "Another interesting challenge regarding `sorted` is 'ginortS'. There are 4 different solutions, but all building on clever `key` function of `sorted`:"
   ]
  },
  {
   "cell_type": "code",
   "execution_count": null,
   "metadata": {},
   "outputs": [],
   "source": [
    "print(*sorted(input(), key=lambda c: (-ord(c) >> 5, c in '02468', c)), sep='')\n",
    "\n",
    "print(*sorted(input(), key=lambda c: (c.isdigit() - c.islower(), c in '02468', c)), sep='')\n",
    "\n",
    "order = 'abcdefghijklmnopqrstuvwxyzABCDEFGHIJKLMNOPQRSTUVWXYZ1357902468'\n",
    "print(*sorted(input(), key=order.index), sep='')\n",
    "\n",
    "import string\n",
    "print(*sorted(input(), key=(string.ascii_letters + '1357902468').index), sep='')"
   ]
  },
  {
   "cell_type": "markdown",
   "metadata": {},
   "source": [
    "The #1 uses bit shifting to manipulate the lower/upper case order.\n",
    "#2 is a more abstract way of #1 \n",
    "#3 utilize straight forward indexing `order.index` to do the indexing. \n",
    "#4 is a more abstract way of doing #3\n",
    "All of them created a tuple of boolean values for the `sorted` function to do comparison. This is a great way to compare with layered conditions. "
   ]
  },
  {
   "cell_type": "code",
   "execution_count": null,
   "metadata": {},
   "outputs": [],
   "source": [
    "# my solution, doesn't involve complicated key functions, just as a reference \n",
    "odd = [x for x in s if x.isdigit() and int(x)%2 == 1]\n",
    "even = [x for x in s if x.isdigit() and int(x)%2 == 0]\n",
    "upper = [x for x in s if x.isupper()]\n",
    "lower = [x for x in s if x.islower()]\n",
    "print(''.join(list(map(''.join, list(map(sorted, [lower, upper, odd, even]))))))"
   ]
  },
  {
   "cell_type": "markdown",
   "metadata": {},
   "source": [
    "###  \\*arg and **kwargs"
   ]
  },
  {
   "cell_type": "markdown",
   "metadata": {},
   "source": [
    "It can ben used on many functions, like `print`. Establish awareness of this will increase the efficiency of your code. "
   ]
  },
  {
   "cell_type": "code",
   "execution_count": null,
   "metadata": {},
   "outputs": [],
   "source": [
    "# use *value to expand an iterable to its items, often used in function auguments"
   ]
  },
  {
   "cell_type": "markdown",
   "metadata": {},
   "source": [
    "### Check Counter Dictionary Key Existance by dict[key]"
   ]
  },
  {
   "cell_type": "code",
   "execution_count": null,
   "metadata": {},
   "outputs": [],
   "source": [
    "# collections.Counter()\n",
    "#  In Python, dict key can be checked by simply use dict[key], it will return False/0 if the key is not there. \n",
    "numShoes = int(raw_input())\n",
    "shoes = collections.Counter(map(int, raw_input().split()))\n",
    "numCust = int(raw_input())\n",
    "\n",
    "income = 0\n",
    "\n",
    "for i in range(numCust):\n",
    "    size, price = map(int, raw_input().split())\n",
    "    if shoes[size]:     # this is the best part\n",
    "        income += price\n",
    "        shoes[size] -= 1"
   ]
  },
  {
   "cell_type": "code",
   "execution_count": 3,
   "metadata": {},
   "outputs": [
    {
     "name": "stdout",
     "output_type": "stream",
     "text": [
      "Error Code: division by zero\n"
     ]
    }
   ],
   "source": [
    "try:\n",
    "    print(1/0)\n",
    "except ZeroDivisionError as e:\n",
    "    print(\"Error Code:\", e)"
   ]
  },
  {
   "cell_type": "code",
   "execution_count": 5,
   "metadata": {},
   "outputs": [
    {
     "name": "stdout",
     "output_type": "stream",
     "text": [
      "2\n"
     ]
    }
   ],
   "source": [
    "import calendar\n",
    "\n",
    "print(calendar.weekday(2015, 8, 5))\n",
    "\n",
    "calendar."
   ]
  },
  {
   "cell_type": "markdown",
   "metadata": {},
   "source": [
    "### Time Delta"
   ]
  },
  {
   "cell_type": "code",
   "execution_count": null,
   "metadata": {},
   "outputs": [],
   "source": [
    "from datetime import datetime as dt\n",
    "\n",
    "\n",
    "fmt = '%a %d %b %Y %H:%M:%S %z'\n",
    "for i in range(int(input())):\n",
    "    print(int(abs((dt.strptime(input(), fmt) - \n",
    "                   dt.strptime(input(), fmt)).total_seconds())))"
   ]
  },
  {
   "cell_type": "markdown",
   "metadata": {},
   "source": [
    "use `datetime.strptime(date_string, format_string)` to convert a date string with format string. Easiest way to get a `datetime` object.  "
   ]
  },
  {
   "cell_type": "markdown",
   "metadata": {},
   "source": [
    "### Regex"
   ]
  },
  {
   "cell_type": "code",
   "execution_count": 54,
   "metadata": {},
   "outputs": [
    {
     "name": "stdout",
     "output_type": "stream",
     "text": [
      "__\n"
     ]
    }
   ],
   "source": [
    "import re\n",
    "\n",
    "i = '__committ__'\n",
    "m = re.search(r'(\\w)\\1{1,}', i)\n",
    "\n",
    "print(m[0])"
   ]
  },
  {
   "cell_type": "markdown",
   "metadata": {},
   "source": [
    "- Note that `\\1, \\2, ... \\n` means the 1st, 2nd, ... 3nd matching group content. \n",
    "- Also note that don't use `match` if you want to search something in the middle. User `search` instead, and put `^` if you want something from begin of the string."
   ]
  },
  {
   "cell_type": "markdown",
   "metadata": {},
   "source": [
    "##### Re.findall() & Re.finditer()"
   ]
  },
  {
   "cell_type": "code",
   "execution_count": null,
   "metadata": {},
   "outputs": [],
   "source": [
    "import re\n",
    "pattern=r'(?<=[b-df-hj-np-tv-zB-DF-HJ-NP-TV-Z])([aeiouAEIOU]{2,})(?=[b-df-hj-np-tv-zB-DF-HJ-NP-TV-Z])'\n",
    "a=re.findall(pattern,input())\n",
    "if a==[]:\n",
    "    print(-1)\n",
    "else:\n",
    "    for i in a:\n",
    "        print(i)"
   ]
  },
  {
   "cell_type": "markdown",
   "metadata": {},
   "source": [
    "1. For `findall()` and `finditer`, they will find all the **non-overlapping** matches, so we can't use [cons]([vowel]){2,}[cons] to match since it will consume the consonant if there's only one in the 'border'. \n",
    "2. To not consume the border character, use what's called a lookahead/lookbehind assertation, which **won't** consume the border one. Like the code above. "
   ]
  },
  {
   "cell_type": "markdown",
   "metadata": {},
   "source": [
    "#### start() & end()"
   ]
  },
  {
   "cell_type": "code",
   "execution_count": null,
   "metadata": {},
   "outputs": [],
   "source": [
    "import re\n",
    "\n",
    "s, k = input(), input()\n",
    "m = re.finditer(r'(?=('+k+'))', s)\n",
    "a = [(i.start(1), i.end(1)-1) for i in m]\n",
    "if a:\n",
    "    print(*a, sep='\\n')\n",
    "else:\n",
    "    print((-1,-1))"
   ]
  },
  {
   "cell_type": "markdown",
   "metadata": {},
   "source": [
    "- Can't use `findall` here since it only returns a list of matches strings. Instead, use `finditer` which will return all the `MatchObjects`, we can easily get hold of the matching groups and apply `start()` and `end()`. \n",
    "- Also need to user lookahead assertion here since we want overlapping matches. "
   ]
  },
  {
   "cell_type": "markdown",
   "metadata": {},
   "source": [
    "#### Validating Roman Numerals"
   ]
  },
  {
   "cell_type": "code",
   "execution_count": null,
   "metadata": {},
   "outputs": [],
   "source": [
    "gex_pattern = r\"(M|MM|MMM)?\n",
    "(C|CC|CCC|CD|D|DC|DCC|DCCC|CM)?\n",
    "(X|XX|XXX|XL|L|LX|LXX|LXXX|XC)?\n",
    "(I|II|III|IV|V|VI|VII|VIII|IX)?$\"\t\n"
   ]
  },
  {
   "cell_type": "markdown",
   "metadata": {},
   "source": [
    "[Roman Numerals](https://en.wikipedia.org/wiki/Roman_numerals)\n",
    "\n",
    "One thing to note here is if `|` is used, then `()` parenthesis also need to be used to inclose it, not `[]`."
   ]
  },
  {
   "cell_type": "code",
   "execution_count": 55,
   "metadata": {},
   "outputs": [
    {
     "name": "stdout",
     "output_type": "stream",
     "text": [
      "('DOSHI', 'DOSHI@hackerrank.com')\n",
      "DOSHI <DOSHI@hackerrank.com>\n"
     ]
    }
   ],
   "source": [
    "import email.utils\n",
    "print(email.utils.parseaddr('DOSHI <DOSHI@hackerrank.com>'))\n",
    "print (email.utils.formataddr(('DOSHI', 'DOSHI@hackerrank.com')))\n"
   ]
  },
  {
   "cell_type": "markdown",
   "metadata": {},
   "source": [
    "#### Validating UID"
   ]
  },
  {
   "cell_type": "code",
   "execution_count": 1,
   "metadata": {},
   "outputs": [],
   "source": [
    "# My solution without using re, just str func, list comprehension, and set\n",
    "e = [input() for _ in range(int(input()))]\n",
    "\n",
    "for uid in e:\n",
    "    alnum = all([i.isalnum() for i in uid])\n",
    "    digit = sum([1 for i in uid if i.isdigit() ]) > 2\n",
    "    upper = sum([1 for i in uid if i.isupper() ]) > 1\n",
    "    if all([len(uid) == 10, len(set(uid)) == 10, alnum, digit, upper ]):\n",
    "        print('Valid')\n",
    "    else:\n",
    "        print('Invalid')"
   ]
  },
  {
   "cell_type": "markdown",
   "metadata": {},
   "source": [
    "- List comprehension + per char string function do the trick. Maybe faster?\n",
    "- Use set to detect duplication"
   ]
  },
  {
   "cell_type": "code",
   "execution_count": null,
   "metadata": {},
   "outputs": [],
   "source": [
    "# Best Solution, using re\n",
    "import re\n",
    "\n",
    "for _ in range(int(input())):\n",
    "    u = ''.join(sorted(input()))\n",
    "    try:\n",
    "        assert re.search(r'[A-Z]{2}', u)\n",
    "        assert re.search(r'\\d\\d\\d', u)\n",
    "        assert not re.search(r'[^a-zA-Z0-9]', u)\n",
    "        assert not re.search(r'(.)\\1', u)\n",
    "        assert len(u) == 10\n",
    "    except:\n",
    "        print('Invalid')\n",
    "    else:\n",
    "        print('Valid')"
   ]
  },
  {
   "cell_type": "markdown",
   "metadata": {},
   "source": [
    "- `try`, `assert`, `except`, `else` to organize the conditions\n",
    "- Use re to detect minimum alphabet, digits, all alphanumeric and duplicates.Quite elegant and readable. "
   ]
  },
  {
   "cell_type": "markdown",
   "metadata": {},
   "source": [
    "#### collections.namedtuple()"
   ]
  },
  {
   "cell_type": "code",
   "execution_count": null,
   "metadata": {},
   "outputs": [],
   "source": [
    "# My solution, create namedtuple using **kwargs expansion\n",
    "from collections import namedtuple\n",
    "\n",
    "n = int(input())\n",
    "cols = input().strip().split()\n",
    "Students = namedtuple('Students', ' '.join(cols))\n",
    "row = {}\n",
    "rows = []\n",
    "\n",
    "for i in range(n):\n",
    "    for j in zip(cols, input().strip().split()):\n",
    "        row[j[0]] = j[1]\n",
    "    rows.append(Students(**row))\n",
    "            \n",
    "print('{:0.2f}'.format(sum([int(row.MARKS) for row in rows])/n))"
   ]
  },
  {
   "cell_type": "code",
   "execution_count": null,
   "metadata": {},
   "outputs": [],
   "source": [
    "# 4 liner, creating namedtuple using *args expantion:\n",
    "from collections import namedtuple\n",
    "n, s = int(input()), namedtuple('Student', input())\n",
    "print(sum(int(s(*input().split()).MARKS) for _ in range(n)) / n)"
   ]
  },
  {
   "cell_type": "markdown",
   "metadata": {},
   "source": [
    "#### Collections.OrderedDict()"
   ]
  },
  {
   "cell_type": "code",
   "execution_count": null,
   "metadata": {},
   "outputs": [],
   "source": [
    "# My solution. Use list sliding to get the price and name, use try/except to handle key not exist case, and use index to get items:\n",
    "from collections import OrderedDict\n",
    "\n",
    "l = OrderedDict()\n",
    "for i in range(int(input())):\n",
    "    line = input().split()\n",
    "    name = ' '.join(line[:(len(line)-1)])\n",
    "    price = int(line[-1])\n",
    "    try:\n",
    "        l[name] += price\n",
    "    except:\n",
    "        l[name] = price\n",
    "\n",
    "for i in l.items():\n",
    "    print(i[0], i[1])"
   ]
  },
  {
   "cell_type": "code",
   "execution_count": null,
   "metadata": {},
   "outputs": [],
   "source": [
    "# Most upvoted. Use `rpartition` to get price and name, use `dict.get(key, default)` to handle key not exist case, and use multi-variables iteration to\n",
    "# get items:\n",
    "from collections import OrderedDict\n",
    "d = OrderedDict()\n",
    "for _ in range(int(input())):\n",
    "    item, space, quantity = input().rpartition(' ')\n",
    "    d[item] = d.get(item, 0) + int(quantity)\n",
    "for item, quantity in d.items():\n",
    "    print(item, quantity)"
   ]
  }
 ],
 "metadata": {
  "kernelspec": {
   "display_name": "Python 3 (ipykernel)",
   "language": "python",
   "name": "python3"
  },
  "language_info": {
   "codemirror_mode": {
    "name": "ipython",
    "version": 3
   },
   "file_extension": ".py",
   "mimetype": "text/x-python",
   "name": "python",
   "nbconvert_exporter": "python",
   "pygments_lexer": "ipython3",
   "version": "3.7.4"
  }
 },
 "nbformat": 4,
 "nbformat_minor": 4
}
